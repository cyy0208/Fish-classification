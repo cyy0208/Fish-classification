{
 "cells": [
  {
   "cell_type": "markdown",
   "id": "d56b4a5f-8ec2-4493-8344-580ed67d3d25",
   "metadata": {},
   "source": [
    "## 直接运行代码块即可"
   ]
  },
  {
   "cell_type": "code",
   "execution_count": 1,
   "id": "83c98888-79c0-4f4c-8e64-b9cc65ac797e",
   "metadata": {},
   "outputs": [
    {
     "name": "stdout",
     "output_type": "stream",
     "text": [
      "Requirement already satisfied: numpy in /home/zy/.conda/envs/ME/lib/python3.8/site-packages (1.22.3)\n",
      "Requirement already satisfied: pandas in /home/zy/.conda/envs/ME/lib/python3.8/site-packages (1.4.1)\n",
      "Requirement already satisfied: matplotlib in /home/zy/.conda/envs/ME/lib/python3.8/site-packages (3.5.1)\n",
      "Requirement already satisfied: requests in /home/zy/.conda/envs/ME/lib/python3.8/site-packages (2.27.1)\n",
      "Requirement already satisfied: tqdm in /home/zy/.local/lib/python3.8/site-packages (4.63.0)\n",
      "Requirement already satisfied: opencv-python in /home/zy/.conda/envs/ME/lib/python3.8/site-packages (4.5.5.62)\n",
      "Requirement already satisfied: python-dateutil>=2.8.1 in /home/zy/.conda/envs/ME/lib/python3.8/site-packages (from pandas) (2.8.2)\n",
      "Requirement already satisfied: pytz>=2020.1 in /home/zy/.conda/envs/ME/lib/python3.8/site-packages (from pandas) (2021.3)\n",
      "Requirement already satisfied: cycler>=0.10 in /home/zy/.conda/envs/ME/lib/python3.8/site-packages (from matplotlib) (0.11.0)\n",
      "Requirement already satisfied: kiwisolver>=1.0.1 in /home/zy/.conda/envs/ME/lib/python3.8/site-packages (from matplotlib) (1.3.2)\n",
      "Requirement already satisfied: pillow>=6.2.0 in /home/zy/.conda/envs/ME/lib/python3.8/site-packages (from matplotlib) (9.0.1)\n",
      "Requirement already satisfied: fonttools>=4.22.0 in /home/zy/.conda/envs/ME/lib/python3.8/site-packages (from matplotlib) (4.29.1)\n",
      "Requirement already satisfied: pyparsing>=2.2.1 in /home/zy/.conda/envs/ME/lib/python3.8/site-packages (from matplotlib) (3.0.7)\n",
      "Requirement already satisfied: packaging>=20.0 in /home/zy/.conda/envs/ME/lib/python3.8/site-packages (from matplotlib) (21.3)\n",
      "Requirement already satisfied: urllib3<1.27,>=1.21.1 in /home/zy/.conda/envs/ME/lib/python3.8/site-packages (from requests) (1.26.8)\n",
      "Requirement already satisfied: certifi>=2017.4.17 in /home/zy/.conda/envs/ME/lib/python3.8/site-packages (from requests) (2021.10.8)\n",
      "Requirement already satisfied: charset-normalizer~=2.0.0 in /home/zy/.conda/envs/ME/lib/python3.8/site-packages (from requests) (2.0.12)\n",
      "Requirement already satisfied: idna<4,>=2.5 in /home/zy/.conda/envs/ME/lib/python3.8/site-packages (from requests) (3.3)\n",
      "Requirement already satisfied: six>=1.5 in /home/zy/.conda/envs/ME/lib/python3.8/site-packages (from python-dateutil>=2.8.1->pandas) (1.16.0)\n",
      "Could not fetch URL https://pypi.org/simple/pip/: There was a problem confirming the ssl certificate: HTTPSConnectionPool(host='pypi.org', port=443): Max retries exceeded with url: /simple/pip/ (Caused by SSLError(SSLCertVerificationError(1, '[SSL: CERTIFICATE_VERIFY_FAILED] certificate verify failed: self signed certificate (_ssl.c:1108)'))) - skipping\n"
     ]
    }
   ],
   "source": [
    "!pip install numpy pandas matplotlib requests tqdm opencv-python"
   ]
  },
  {
   "cell_type": "code",
   "execution_count": null,
   "id": "83c9d956-5824-4d84-84d4-86d1c7b1f89f",
   "metadata": {},
   "outputs": [],
   "source": []
  }
 ],
 "metadata": {
  "kernelspec": {
   "display_name": "Python 3.8.0 ('ME')",
   "language": "python",
   "name": "python3"
  },
  "language_info": {
   "codemirror_mode": {
    "name": "ipython",
    "version": 3
   },
   "file_extension": ".py",
   "mimetype": "text/x-python",
   "name": "python",
   "nbconvert_exporter": "python",
   "pygments_lexer": "ipython3",
   "version": "3.8.0"
  },
  "vscode": {
   "interpreter": {
    "hash": "b7a9bb930f606a8a9200d8832eafe4bf9489fee47d8f93830a3febf35c93c08c"
   }
  }
 },
 "nbformat": 4,
 "nbformat_minor": 5
}
