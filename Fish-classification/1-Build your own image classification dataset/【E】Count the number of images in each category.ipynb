{
 "cells": [
  {
   "cell_type": "markdown",
   "id": "972976fa",
   "metadata": {},
   "source": [
    "## 各类别数据个数柱状图"
   ]
  },
  {
   "cell_type": "markdown",
   "id": "87004a92",
   "metadata": {},
   "source": [
    "### 导入工具包"
   ]
  },
  {
   "cell_type": "code",
   "execution_count": 74,
   "id": "7f62ed0d",
   "metadata": {},
   "outputs": [],
   "source": [
    "import numpy as np\n",
    "import pandas as pd\n",
    "import matplotlib.pyplot as plt\n",
    "%matplotlib inline"
   ]
  },
  {
   "cell_type": "markdown",
   "id": "7bf014d5",
   "metadata": {},
   "source": [
    "### 设置中文字体（选择对应的操作系统）"
   ]
  },
  {
   "cell_type": "code",
   "execution_count": 75,
   "id": "a2dfd133",
   "metadata": {},
   "outputs": [],
   "source": [
    "# # windows操作系统\n",
    "plt.rcParams['font.sans-serif']=['SimHei']  # 用来正常显示中文标签 \n",
    "plt.rcParams['axes.unicode_minus']=False  # 用来正常显示负号"
   ]
  },
  {
   "cell_type": "code",
   "execution_count": 76,
   "id": "9dc70d25",
   "metadata": {},
   "outputs": [],
   "source": [
    "# Mac操作系统，参考 https://www.ngui.cc/51cto/show-727683.html\n",
    "# 下载 simhei.ttf 字体文件\n",
    "# !wget https://zihao-openmmlab.obs.cn-east-3.myhuaweicloud.com/20220716-mmclassification/dataset/SimHei.ttf"
   ]
  },
  {
   "cell_type": "code",
   "execution_count": 77,
   "id": "c0280a49-afee-4853-83f8-da4a4260ca77",
   "metadata": {},
   "outputs": [
    {
     "name": "stdout",
     "output_type": "stream",
     "text": [
      "/environment/miniconda3/lib/python3.7/site-packages/matplotlib/mpl-data/fonts/ttf/SimHei.ttf: 没有那个文件或目录\n"
     ]
    }
   ],
   "source": [
    "# Linux操作系统，例如 云GPU平台：https://featurize.cn/?s=d7ce99f842414bfcaea5662a97581bd1\n",
    "# 运行完毕后重启 kernel，再从头运行一次\n",
    "!wget https://zihao-openmmlab.obs.cn-east-3.myhuaweicloud.com/20220716-mmclassification/dataset/SimHei.ttf -O /environment/miniconda3/lib/python3.7/site-packages/matplotlib/mpl-data/fonts/ttf/SimHei.ttf\n",
    "!rm -rf /home/featurize/.cache/matplotlib\n",
    "\n",
    "# import matplotlib\n",
    "# matplotlib.rc(\"font\",family='SimHei') # 中文字体\n",
    "# plt.rcParams['font.sans-serif']=['SimHei']  # 用来正常显示中文标签\n",
    "# plt.rcParams['axes.unicode_minus']=False  # 用来正常显示负号"
   ]
  },
  {
   "cell_type": "markdown",
   "id": "dc1c56ab",
   "metadata": {},
   "source": [
    "### 导入数据集统计表格"
   ]
  },
  {
   "cell_type": "code",
   "execution_count": 78,
   "id": "c873089b",
   "metadata": {},
   "outputs": [],
   "source": [
    "df = pd.read_csv('数据量统计.csv')"
   ]
  },
  {
   "cell_type": "code",
   "execution_count": 79,
   "id": "c7424f6c",
   "metadata": {},
   "outputs": [
    {
     "data": {
      "text/plain": [
       "(4, 4)"
      ]
     },
     "execution_count": 79,
     "metadata": {},
     "output_type": "execute_result"
    }
   ],
   "source": [
    "df.shape"
   ]
  },
  {
   "cell_type": "code",
   "execution_count": 80,
   "id": "138e7c7e",
   "metadata": {},
   "outputs": [
    {
     "data": {
      "text/html": [
       "<div>\n",
       "<style scoped>\n",
       "    .dataframe tbody tr th:only-of-type {\n",
       "        vertical-align: middle;\n",
       "    }\n",
       "\n",
       "    .dataframe tbody tr th {\n",
       "        vertical-align: top;\n",
       "    }\n",
       "\n",
       "    .dataframe thead th {\n",
       "        text-align: right;\n",
       "    }\n",
       "</style>\n",
       "<table border=\"1\" class=\"dataframe\">\n",
       "  <thead>\n",
       "    <tr style=\"text-align: right;\">\n",
       "      <th></th>\n",
       "      <th>class</th>\n",
       "      <th>testset</th>\n",
       "      <th>trainset</th>\n",
       "      <th>total</th>\n",
       "    </tr>\n",
       "  </thead>\n",
       "  <tbody>\n",
       "    <tr>\n",
       "      <th>0</th>\n",
       "      <td>medium</td>\n",
       "      <td>800.0</td>\n",
       "      <td>3200.0</td>\n",
       "      <td>4000.0</td>\n",
       "    </tr>\n",
       "    <tr>\n",
       "      <th>1</th>\n",
       "      <td>strong</td>\n",
       "      <td>800.0</td>\n",
       "      <td>3200.0</td>\n",
       "      <td>4000.0</td>\n",
       "    </tr>\n",
       "    <tr>\n",
       "      <th>2</th>\n",
       "      <td>weak</td>\n",
       "      <td>800.0</td>\n",
       "      <td>3200.0</td>\n",
       "      <td>4000.0</td>\n",
       "    </tr>\n",
       "    <tr>\n",
       "      <th>3</th>\n",
       "      <td>none</td>\n",
       "      <td>800.0</td>\n",
       "      <td>3200.0</td>\n",
       "      <td>4000.0</td>\n",
       "    </tr>\n",
       "  </tbody>\n",
       "</table>\n",
       "</div>"
      ],
      "text/plain": [
       "    class  testset  trainset   total\n",
       "0  medium    800.0    3200.0  4000.0\n",
       "1  strong    800.0    3200.0  4000.0\n",
       "2    weak    800.0    3200.0  4000.0\n",
       "3    none    800.0    3200.0  4000.0"
      ]
     },
     "execution_count": 80,
     "metadata": {},
     "output_type": "execute_result"
    }
   ],
   "source": [
    "df"
   ]
  },
  {
   "cell_type": "markdown",
   "id": "4f111353",
   "metadata": {},
   "source": [
    "### 图像数量柱状图可视化"
   ]
  },
  {
   "cell_type": "code",
   "execution_count": 81,
   "id": "03ad8e11",
   "metadata": {},
   "outputs": [],
   "source": [
    "# 指定可视化的特征\n",
    "feature = 'total'\n",
    "# feature = 'trainset'\n",
    "# feature = 'testset'"
   ]
  },
  {
   "cell_type": "code",
   "execution_count": 82,
   "id": "fa0e683d",
   "metadata": {},
   "outputs": [],
   "source": [
    "df = df.sort_values(by=feature, ascending=False)"
   ]
  },
  {
   "cell_type": "code",
   "execution_count": 83,
   "id": "88679081",
   "metadata": {},
   "outputs": [
    {
     "data": {
      "text/html": [
       "<div>\n",
       "<style scoped>\n",
       "    .dataframe tbody tr th:only-of-type {\n",
       "        vertical-align: middle;\n",
       "    }\n",
       "\n",
       "    .dataframe tbody tr th {\n",
       "        vertical-align: top;\n",
       "    }\n",
       "\n",
       "    .dataframe thead th {\n",
       "        text-align: right;\n",
       "    }\n",
       "</style>\n",
       "<table border=\"1\" class=\"dataframe\">\n",
       "  <thead>\n",
       "    <tr style=\"text-align: right;\">\n",
       "      <th></th>\n",
       "      <th>class</th>\n",
       "      <th>testset</th>\n",
       "      <th>trainset</th>\n",
       "      <th>total</th>\n",
       "    </tr>\n",
       "  </thead>\n",
       "  <tbody>\n",
       "    <tr>\n",
       "      <th>0</th>\n",
       "      <td>medium</td>\n",
       "      <td>800.0</td>\n",
       "      <td>3200.0</td>\n",
       "      <td>4000.0</td>\n",
       "    </tr>\n",
       "    <tr>\n",
       "      <th>1</th>\n",
       "      <td>strong</td>\n",
       "      <td>800.0</td>\n",
       "      <td>3200.0</td>\n",
       "      <td>4000.0</td>\n",
       "    </tr>\n",
       "    <tr>\n",
       "      <th>2</th>\n",
       "      <td>weak</td>\n",
       "      <td>800.0</td>\n",
       "      <td>3200.0</td>\n",
       "      <td>4000.0</td>\n",
       "    </tr>\n",
       "    <tr>\n",
       "      <th>3</th>\n",
       "      <td>none</td>\n",
       "      <td>800.0</td>\n",
       "      <td>3200.0</td>\n",
       "      <td>4000.0</td>\n",
       "    </tr>\n",
       "  </tbody>\n",
       "</table>\n",
       "</div>"
      ],
      "text/plain": [
       "    class  testset  trainset   total\n",
       "0  medium    800.0    3200.0  4000.0\n",
       "1  strong    800.0    3200.0  4000.0\n",
       "2    weak    800.0    3200.0  4000.0\n",
       "3    none    800.0    3200.0  4000.0"
      ]
     },
     "execution_count": 83,
     "metadata": {},
     "output_type": "execute_result"
    }
   ],
   "source": [
    "df.head()"
   ]
  },
  {
   "cell_type": "code",
   "execution_count": 84,
   "id": "dad6d1d0",
   "metadata": {},
   "outputs": [
    {
     "name": "stderr",
     "output_type": "stream",
     "text": [
      "/home/ai/anaconda3/lib/python3.7/site-packages/matplotlib/backends/_backend_pdf_ps.py:62: RuntimeWarning: Glyph 31867 missing from current font.\n",
      "  font.set_text(s, 0.0, flags=ft2font.LOAD_NO_HINTING)\n",
      "/home/ai/anaconda3/lib/python3.7/site-packages/matplotlib/backends/_backend_pdf_ps.py:62: RuntimeWarning: Glyph 21035 missing from current font.\n",
      "  font.set_text(s, 0.0, flags=ft2font.LOAD_NO_HINTING)\n",
      "/home/ai/anaconda3/lib/python3.7/site-packages/matplotlib/backends/_backend_pdf_ps.py:62: RuntimeWarning: Glyph 22270 missing from current font.\n",
      "  font.set_text(s, 0.0, flags=ft2font.LOAD_NO_HINTING)\n",
      "/home/ai/anaconda3/lib/python3.7/site-packages/matplotlib/backends/_backend_pdf_ps.py:62: RuntimeWarning: Glyph 20687 missing from current font.\n",
      "  font.set_text(s, 0.0, flags=ft2font.LOAD_NO_HINTING)\n",
      "/home/ai/anaconda3/lib/python3.7/site-packages/matplotlib/backends/_backend_pdf_ps.py:62: RuntimeWarning: Glyph 25968 missing from current font.\n",
      "  font.set_text(s, 0.0, flags=ft2font.LOAD_NO_HINTING)\n",
      "/home/ai/anaconda3/lib/python3.7/site-packages/matplotlib/backends/_backend_pdf_ps.py:62: RuntimeWarning: Glyph 37327 missing from current font.\n",
      "  font.set_text(s, 0.0, flags=ft2font.LOAD_NO_HINTING)\n",
      "/home/ai/anaconda3/lib/python3.7/site-packages/matplotlib/backends/backend_agg.py:214: RuntimeWarning: Glyph 31867 missing from current font.\n",
      "  font.set_text(s, 0.0, flags=flags)\n",
      "/home/ai/anaconda3/lib/python3.7/site-packages/matplotlib/backends/backend_agg.py:214: RuntimeWarning: Glyph 21035 missing from current font.\n",
      "  font.set_text(s, 0.0, flags=flags)\n",
      "/home/ai/anaconda3/lib/python3.7/site-packages/matplotlib/backends/backend_agg.py:183: RuntimeWarning: Glyph 31867 missing from current font.\n",
      "  font.set_text(s, 0, flags=flags)\n",
      "/home/ai/anaconda3/lib/python3.7/site-packages/matplotlib/backends/backend_agg.py:183: RuntimeWarning: Glyph 21035 missing from current font.\n",
      "  font.set_text(s, 0, flags=flags)\n",
      "/home/ai/anaconda3/lib/python3.7/site-packages/matplotlib/backends/backend_agg.py:214: RuntimeWarning: Glyph 22270 missing from current font.\n",
      "  font.set_text(s, 0.0, flags=flags)\n",
      "/home/ai/anaconda3/lib/python3.7/site-packages/matplotlib/backends/backend_agg.py:214: RuntimeWarning: Glyph 20687 missing from current font.\n",
      "  font.set_text(s, 0.0, flags=flags)\n",
      "/home/ai/anaconda3/lib/python3.7/site-packages/matplotlib/backends/backend_agg.py:214: RuntimeWarning: Glyph 25968 missing from current font.\n",
      "  font.set_text(s, 0.0, flags=flags)\n",
      "/home/ai/anaconda3/lib/python3.7/site-packages/matplotlib/backends/backend_agg.py:214: RuntimeWarning: Glyph 37327 missing from current font.\n",
      "  font.set_text(s, 0.0, flags=flags)\n",
      "/home/ai/anaconda3/lib/python3.7/site-packages/matplotlib/backends/backend_agg.py:183: RuntimeWarning: Glyph 22270 missing from current font.\n",
      "  font.set_text(s, 0, flags=flags)\n",
      "/home/ai/anaconda3/lib/python3.7/site-packages/matplotlib/backends/backend_agg.py:183: RuntimeWarning: Glyph 20687 missing from current font.\n",
      "  font.set_text(s, 0, flags=flags)\n",
      "/home/ai/anaconda3/lib/python3.7/site-packages/matplotlib/backends/backend_agg.py:183: RuntimeWarning: Glyph 25968 missing from current font.\n",
      "  font.set_text(s, 0, flags=flags)\n",
      "/home/ai/anaconda3/lib/python3.7/site-packages/matplotlib/backends/backend_agg.py:183: RuntimeWarning: Glyph 37327 missing from current font.\n",
      "  font.set_text(s, 0, flags=flags)\n"
     ]
    },
    {
     "data": {
      "image/png": "[encoded data removed]",
      "text/plain": [
       "<Figure size 1584x504 with 1 Axes>"
      ]
     },
     "metadata": {
      "needs_background": "light"
     },
     "output_type": "display_data"
    }
   ],
   "source": [
    "plt.figure(figsize=(22, 7))\n",
    "\n",
    "x = df['class']\n",
    "y = df[feature]\n",
    "\n",
    "plt.bar(x, y, facecolor='#1f77b4', edgecolor='k')\n",
    "\n",
    "plt.xticks(rotation=90)\n",
    "plt.tick_params(labelsize=15)\n",
    "plt.xlabel('类别', fontsize=20)\n",
    "plt.ylabel('图像数量', fontsize=20)\n",
    "\n",
    "plt.savefig('各类别图片数量.pdf', dpi=120, bbox_inches='tight')\n",
    "\n",
    "plt.show()"
   ]
  },
  {
   "cell_type": "code",
   "execution_count": 85,
   "id": "db9b24c5",
   "metadata": {},
   "outputs": [
    {
     "name": "stderr",
     "output_type": "stream",
     "text": [
      "/home/ai/anaconda3/lib/python3.7/site-packages/matplotlib/backends/_backend_pdf_ps.py:62: RuntimeWarning: Glyph 31867 missing from current font.\n",
      "  font.set_text(s, 0.0, flags=ft2font.LOAD_NO_HINTING)\n",
      "/home/ai/anaconda3/lib/python3.7/site-packages/matplotlib/backends/_backend_pdf_ps.py:62: RuntimeWarning: Glyph 21035 missing from current font.\n",
      "  font.set_text(s, 0.0, flags=ft2font.LOAD_NO_HINTING)\n",
      "/home/ai/anaconda3/lib/python3.7/site-packages/matplotlib/backends/_backend_pdf_ps.py:62: RuntimeWarning: Glyph 22270 missing from current font.\n",
      "  font.set_text(s, 0.0, flags=ft2font.LOAD_NO_HINTING)\n",
      "/home/ai/anaconda3/lib/python3.7/site-packages/matplotlib/backends/_backend_pdf_ps.py:62: RuntimeWarning: Glyph 20687 missing from current font.\n",
      "  font.set_text(s, 0.0, flags=ft2font.LOAD_NO_HINTING)\n",
      "/home/ai/anaconda3/lib/python3.7/site-packages/matplotlib/backends/_backend_pdf_ps.py:62: RuntimeWarning: Glyph 25968 missing from current font.\n",
      "  font.set_text(s, 0.0, flags=ft2font.LOAD_NO_HINTING)\n",
      "/home/ai/anaconda3/lib/python3.7/site-packages/matplotlib/backends/_backend_pdf_ps.py:62: RuntimeWarning: Glyph 37327 missing from current font.\n",
      "  font.set_text(s, 0.0, flags=ft2font.LOAD_NO_HINTING)\n",
      "/home/ai/anaconda3/lib/python3.7/site-packages/matplotlib/backends/_backend_pdf_ps.py:62: RuntimeWarning: Glyph 27979 missing from current font.\n",
      "  font.set_text(s, 0.0, flags=ft2font.LOAD_NO_HINTING)\n",
      "/home/ai/anaconda3/lib/python3.7/site-packages/matplotlib/backends/_backend_pdf_ps.py:62: RuntimeWarning: Glyph 35797 missing from current font.\n",
      "  font.set_text(s, 0.0, flags=ft2font.LOAD_NO_HINTING)\n",
      "/home/ai/anaconda3/lib/python3.7/site-packages/matplotlib/backends/_backend_pdf_ps.py:62: RuntimeWarning: Glyph 38598 missing from current font.\n",
      "  font.set_text(s, 0.0, flags=ft2font.LOAD_NO_HINTING)\n",
      "/home/ai/anaconda3/lib/python3.7/site-packages/matplotlib/backends/_backend_pdf_ps.py:62: RuntimeWarning: Glyph 35757 missing from current font.\n",
      "  font.set_text(s, 0.0, flags=ft2font.LOAD_NO_HINTING)\n",
      "/home/ai/anaconda3/lib/python3.7/site-packages/matplotlib/backends/_backend_pdf_ps.py:62: RuntimeWarning: Glyph 32451 missing from current font.\n",
      "  font.set_text(s, 0.0, flags=ft2font.LOAD_NO_HINTING)\n",
      "/home/ai/anaconda3/lib/python3.7/site-packages/matplotlib/backends/backend_agg.py:214: RuntimeWarning: Glyph 31867 missing from current font.\n",
      "  font.set_text(s, 0.0, flags=flags)\n",
      "/home/ai/anaconda3/lib/python3.7/site-packages/matplotlib/backends/backend_agg.py:214: RuntimeWarning: Glyph 21035 missing from current font.\n",
      "  font.set_text(s, 0.0, flags=flags)\n",
      "/home/ai/anaconda3/lib/python3.7/site-packages/matplotlib/backends/backend_agg.py:183: RuntimeWarning: Glyph 31867 missing from current font.\n",
      "  font.set_text(s, 0, flags=flags)\n",
      "/home/ai/anaconda3/lib/python3.7/site-packages/matplotlib/backends/backend_agg.py:183: RuntimeWarning: Glyph 21035 missing from current font.\n",
      "  font.set_text(s, 0, flags=flags)\n",
      "/home/ai/anaconda3/lib/python3.7/site-packages/matplotlib/backends/backend_agg.py:214: RuntimeWarning: Glyph 22270 missing from current font.\n",
      "  font.set_text(s, 0.0, flags=flags)\n",
      "/home/ai/anaconda3/lib/python3.7/site-packages/matplotlib/backends/backend_agg.py:214: RuntimeWarning: Glyph 20687 missing from current font.\n",
      "  font.set_text(s, 0.0, flags=flags)\n",
      "/home/ai/anaconda3/lib/python3.7/site-packages/matplotlib/backends/backend_agg.py:214: RuntimeWarning: Glyph 25968 missing from current font.\n",
      "  font.set_text(s, 0.0, flags=flags)\n",
      "/home/ai/anaconda3/lib/python3.7/site-packages/matplotlib/backends/backend_agg.py:214: RuntimeWarning: Glyph 37327 missing from current font.\n",
      "  font.set_text(s, 0.0, flags=flags)\n",
      "/home/ai/anaconda3/lib/python3.7/site-packages/matplotlib/backends/backend_agg.py:183: RuntimeWarning: Glyph 22270 missing from current font.\n",
      "  font.set_text(s, 0, flags=flags)\n",
      "/home/ai/anaconda3/lib/python3.7/site-packages/matplotlib/backends/backend_agg.py:183: RuntimeWarning: Glyph 20687 missing from current font.\n",
      "  font.set_text(s, 0, flags=flags)\n",
      "/home/ai/anaconda3/lib/python3.7/site-packages/matplotlib/backends/backend_agg.py:183: RuntimeWarning: Glyph 25968 missing from current font.\n",
      "  font.set_text(s, 0, flags=flags)\n",
      "/home/ai/anaconda3/lib/python3.7/site-packages/matplotlib/backends/backend_agg.py:183: RuntimeWarning: Glyph 37327 missing from current font.\n",
      "  font.set_text(s, 0, flags=flags)\n",
      "/home/ai/anaconda3/lib/python3.7/site-packages/matplotlib/backends/backend_agg.py:214: RuntimeWarning: Glyph 27979 missing from current font.\n",
      "  font.set_text(s, 0.0, flags=flags)\n",
      "/home/ai/anaconda3/lib/python3.7/site-packages/matplotlib/backends/backend_agg.py:214: RuntimeWarning: Glyph 35797 missing from current font.\n",
      "  font.set_text(s, 0.0, flags=flags)\n",
      "/home/ai/anaconda3/lib/python3.7/site-packages/matplotlib/backends/backend_agg.py:214: RuntimeWarning: Glyph 38598 missing from current font.\n",
      "  font.set_text(s, 0.0, flags=flags)\n",
      "/home/ai/anaconda3/lib/python3.7/site-packages/matplotlib/backends/backend_agg.py:214: RuntimeWarning: Glyph 35757 missing from current font.\n",
      "  font.set_text(s, 0.0, flags=flags)\n",
      "/home/ai/anaconda3/lib/python3.7/site-packages/matplotlib/backends/backend_agg.py:214: RuntimeWarning: Glyph 32451 missing from current font.\n",
      "  font.set_text(s, 0.0, flags=flags)\n",
      "/home/ai/anaconda3/lib/python3.7/site-packages/matplotlib/backends/backend_agg.py:183: RuntimeWarning: Glyph 27979 missing from current font.\n",
      "  font.set_text(s, 0, flags=flags)\n",
      "/home/ai/anaconda3/lib/python3.7/site-packages/matplotlib/backends/backend_agg.py:183: RuntimeWarning: Glyph 35797 missing from current font.\n",
      "  font.set_text(s, 0, flags=flags)\n",
      "/home/ai/anaconda3/lib/python3.7/site-packages/matplotlib/backends/backend_agg.py:183: RuntimeWarning: Glyph 38598 missing from current font.\n",
      "  font.set_text(s, 0, flags=flags)\n",
      "/home/ai/anaconda3/lib/python3.7/site-packages/matplotlib/backends/backend_agg.py:183: RuntimeWarning: Glyph 35757 missing from current font.\n",
      "  font.set_text(s, 0, flags=flags)\n",
      "/home/ai/anaconda3/lib/python3.7/site-packages/matplotlib/backends/backend_agg.py:183: RuntimeWarning: Glyph 32451 missing from current font.\n",
      "  font.set_text(s, 0, flags=flags)\n"
     ]
    },
    {
     "data": {
      "image/png": "[encoded data removed]",
      "text/plain": [
       "<Figure size 1584x504 with 1 Axes>"
      ]
     },
     "metadata": {
      "needs_background": "light"
     },
     "output_type": "display_data"
    }
   ],
   "source": [
    "plt.figure(figsize=(22, 7))\n",
    "x = df['class']\n",
    "y1 = df['testset']\n",
    "y2 = df['trainset']\n",
    "\n",
    "width = 0.55 # 柱状图宽度\n",
    "\n",
    "plt.xticks(rotation=90) # 横轴文字旋转\n",
    "\n",
    "plt.bar(x, y1, width, label='测试集')\n",
    "plt.bar(x, y2, width, label='训练集', bottom=y1)\n",
    "\n",
    "\n",
    "plt.xlabel('类别', fontsize=20)\n",
    "plt.ylabel('图像数量', fontsize=20)\n",
    "plt.tick_params(labelsize=13) # 设置坐标文字大小\n",
    "\n",
    "plt.legend(fontsize=16) # 图例\n",
    "\n",
    "# 保存为高清的 pdf 文件\n",
    "plt.savefig('各类别图像数量.pdf', dpi=120, bbox_inches='tight')\n",
    "\n",
    "plt.show()"
   ]
  },
  {
   "cell_type": "code",
   "execution_count": null,
   "id": "a154c5be-bec1-440b-a37e-d7cea7f022d0",
   "metadata": {},
   "outputs": [],
   "source": []
  }
 ],
 "metadata": {
  "kernelspec": {
   "display_name": "Python 3.7.3 ('base')",
   "language": "python",
   "name": "python3"
  },
  "language_info": {
   "codemirror_mode": {
    "name": "ipython",
    "version": 3
   },
   "file_extension": ".py",
   "mimetype": "text/x-python",
   "name": "python",
   "nbconvert_exporter": "python",
   "pygments_lexer": "ipython3",
   "version": "3.7.3"
  },
  "vscode": {
   "interpreter": {
    "hash": "e68d59ae68558cb77267045ac58fb99f8c2704369fd8cac6e8a5735b58a0348e"
   }
  }
 },
 "nbformat": 4,
 "nbformat_minor": 5
}
